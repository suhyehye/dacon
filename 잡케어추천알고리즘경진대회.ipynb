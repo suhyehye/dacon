{
  "nbformat": 4,
  "nbformat_minor": 0,
  "metadata": {
    "colab": {
      "name": "잡케어추천알고리즘경진대회.ipynb",
      "provenance": [],
      "collapsed_sections": [],
      "authorship_tag": "ABX9TyPSXMvjQyMwwe1JpLg48QAo",
      "include_colab_link": true
    },
    "kernelspec": {
      "name": "python3",
      "display_name": "Python 3"
    },
    "language_info": {
      "name": "python"
    }
  },
  "cells": [
    {
      "cell_type": "markdown",
      "metadata": {
        "id": "view-in-github",
        "colab_type": "text"
      },
      "source": [
        "<a href=\"https://colab.research.google.com/github/suhyehye/dacon/blob/main/%EC%9E%A1%EC%BC%80%EC%96%B4%EC%B6%94%EC%B2%9C%EC%95%8C%EA%B3%A0%EB%A6%AC%EC%A6%98%EA%B2%BD%EC%A7%84%EB%8C%80%ED%9A%8C.ipynb\" target=\"_parent\"><img src=\"https://colab.research.google.com/assets/colab-badge.svg\" alt=\"Open In Colab\"/></a>"
      ]
    },
    {
      "cell_type": "code",
      "execution_count": 2,
      "metadata": {
        "id": "fS3MQRdQVxSE"
      },
      "outputs": [],
      "source": [
        "import numpy as np\n",
        "\n",
        "import torch\n",
        "import torch.optim as optim\n",
        "import torch.nn as nn\n",
        "import torch.nn.functional as F\n",
        "from torch.utils.data import DataLoader, TensorDataset\n",
        "from sklearn.metrics import f1_score\n",
        "from sklearn.model_selection import train_test_split\n",
        "\n",
        "import pandas as pd\n",
        "import warnings\n",
        "warnings.filterwarnings(action='ignore')"
      ]
    },
    {
      "cell_type": "code",
      "source": [
        "from google.colab import drive\n",
        "drive.mount('/content/drive')"
      ],
      "metadata": {
        "colab": {
          "base_uri": "https://localhost:8080/"
        },
        "id": "OmHMqdTfWyIV",
        "outputId": "3601103d-bb5a-41ac-e1a5-dc8e6859b4d3"
      },
      "execution_count": 3,
      "outputs": [
        {
          "output_type": "stream",
          "name": "stdout",
          "text": [
            "Mounted at /content/drive\n"
          ]
        }
      ]
    },
    {
      "cell_type": "code",
      "source": [
        "#데이터 불러오기\n",
        "train = pd.read_csv('/content/train.csv')\n",
        "test = pd.read_csv('/content/test.csv')\n",
        "d_code=pd.read_csv('/content/속성_D_코드.csv',index_col=0).T.to_dict()\n",
        "h_code=pd.read_csv('/content/속성_H_코드.csv',index_col=0).T.to_dict()\n",
        "l_code=pd.read_csv('/content/속성_L_코드.csv',index_col=0).T.to_dict()"
      ],
      "metadata": {
        "id": "WRJbje0tZEO3"
      },
      "execution_count": 4,
      "outputs": []
    },
    {
      "cell_type": "code",
      "source": [
        "#데이터중 일부 변수 제거\n",
        "\n",
        "train = train.drop(['id', 'contents_open_dt','person_rn', 'contents_rn',\n",
        "# 'person_prefer_d_1','person_prefer_d_2','person_prefer_d_3',\n",
        "# 'contents_attribute_d','person_prefer_h_1','person_prefer_h_2','person_prefer_h_3','contents_attribute_h','contents_attribute_l',\n",
        "'person_prefer_f','person_prefer_g'], axis=1) \n",
        "\n",
        "\n",
        "test = test.drop(['id', 'contents_open_dt','person_rn', 'contents_rn',\n",
        "# 'person_prefer_d_1','person_prefer_d_2','person_prefer_d_3',\n",
        "# 'contents_attribute_d','person_prefer_h_1','person_prefer_h_2','person_prefer_h_3','contents_attribute_h','contents_attribute_l',\n",
        "'person_prefer_f','person_prefer_g'], axis=1)\n",
        "\n",
        "# print(train.head())\n",
        "train['d_l_match_yn']=train['d_l_match_yn'].replace([True,False],[1,0])\n",
        "train['d_m_match_yn']=train['d_m_match_yn'].replace([True,False],[1,0])\n",
        "train['d_s_match_yn']=train['d_s_match_yn'].replace([True,False],[1,0])\n",
        "train['h_l_match_yn']=train['h_l_match_yn'].replace([True,False],[1,0])\n",
        "train['h_m_match_yn']=train['h_m_match_yn'].replace([True,False],[1,0])\n",
        "train['h_s_match_yn']=train['h_s_match_yn'].replace([True,False],[1,0])\n",
        "\n",
        "test['d_l_match_yn']=test['d_l_match_yn'].replace([True,False],[1,0])\n",
        "test['d_m_match_yn']=test['d_m_match_yn'].replace([True,False],[1,0])\n",
        "test['d_s_match_yn']=test['d_s_match_yn'].replace([True,False],[1,0])\n",
        "test['h_l_match_yn']=test['h_l_match_yn'].replace([True,False],[1,0])\n",
        "test['h_m_match_yn']=test['h_m_match_yn'].replace([True,False],[1,0])\n",
        "test['h_s_match_yn']=test['h_s_match_yn'].replace([True,False],[1,0])"
      ],
      "metadata": {
        "id": "cGzZNvEsZN2x"
      },
      "execution_count": 5,
      "outputs": []
    },
    {
      "cell_type": "code",
      "source": [
        "device = 'cuda' if torch.cuda.is_available() else 'cpu'\n",
        "\n",
        "# 랜덤 시드 고정\n",
        "torch.manual_seed(42)\n",
        "\n",
        "# GPU 사용 가능일 경우 랜덤 시드 고정\n",
        "if device == 'cuda':\n",
        "    torch.cuda.manual_seed_all(42)"
      ],
      "metadata": {
        "id": "9ZeDjdq8ZVo4"
      },
      "execution_count": 6,
      "outputs": []
    },
    {
      "cell_type": "code",
      "source": [
        "#DataLoader의사용\n",
        "\n",
        "x = train.iloc[:, :-1]\n",
        "y = train.iloc[:, -1]\n",
        "\n",
        "x= x.to_numpy()\n",
        "print(x[0])\n",
        "print(y[0])\n",
        "# x=np.where(x > 1000, x/1000, x)\n",
        "# x=np.where(x > 100, x/100, x)\n",
        "# x=np.where(x > 10, x/10, x)\n",
        "# x=x/10\n",
        "x=torch.Tensor(x)\n",
        "\n",
        "print(x.size())\n",
        "print(x[0][1])\n",
        "y=torch.Tensor(y)\n",
        "\n",
        "print(x)\n",
        "x_train, x_valid, y_train, y_valid = train_test_split(x, y, test_size=0.2, shuffle=True, stratify=y, random_state=42)\n",
        "\n",
        "\n",
        "dataset_train = TensorDataset(x_train, y_train)\n",
        "dataloader_train = DataLoader(dataset_train, batch_size=64, shuffle=True)\n",
        "\n",
        "\n",
        "dataset_valid = TensorDataset(x_valid, y_valid)\n",
        "dataloader_valid = DataLoader(dataset_valid, batch_size=64, shuffle=True)\n",
        "\n",
        "\n",
        "x_test=test.iloc[:]\n",
        "x_test=x_test.to_numpy()\n",
        "# x_test=np.where(x_test > 1000, x_test/1000, x_test)\n",
        "# x_test=np.where(x_test > 100, x_test/100, x_test)\n",
        "# x_test=np.where(x_test > 10, x_test/10, x_test)\n",
        "# x_test=x_test/10\n",
        "print(x_test.shape)\n",
        "x_test=torch.FloatTensor(x_test)"
      ],
      "metadata": {
        "colab": {
          "base_uri": "https://localhost:8080/"
        },
        "id": "35xZkamNZYqc",
        "outputId": "f55a168d-435f-4b21-8817-f6abd08f9c16"
      },
      "execution_count": 7,
      "outputs": [
        {
          "output_type": "stream",
          "name": "stdout",
          "text": [
            "[   1    1    1    0    0    0    1    4    3    5  275  370  369    8\n",
            "    4   95   59    3    3   10    2    1    2 1608  275    1    4  139]\n",
            "1\n",
            "torch.Size([501951, 28])\n",
            "tensor(1.)\n",
            "tensor([[  1.,   1.,   1.,  ...,   1.,   4., 139.],\n",
            "        [  0.,   0.,   0.,  ...,   1.,   4., 133.],\n",
            "        [  0.,   0.,   0.,  ...,   1.,   4.,  53.],\n",
            "        ...,\n",
            "        [  1.,   1.,   1.,  ...,   2.,   7.,  65.],\n",
            "        [  1.,   0.,   0.,  ...,   3.,   4., 259.],\n",
            "        [  1.,   1.,   1.,  ...,   2.,   5., 289.]])\n",
            "(46404, 28)\n"
          ]
        }
      ]
    },
    {
      "cell_type": "code",
      "source": [
        "\n",
        "\n",
        "\n",
        "class LogisticRegression(nn.Module):\n",
        "    \n",
        "    def __init__(self):\n",
        "        super(LogisticRegression, self).__init__()\n",
        "\n",
        "        # self.linear = nn.Sequential(\n",
        "        self.linear1=nn.Linear(28,16)\n",
        "        self.batch_normal1=nn.BatchNorm1d(16)\n",
        "        self.LeakRelu=nn.LeakyReLU()\n",
        "\n",
        "        self.linear2=nn.Linear(16, 16)\n",
        "        self.batch_normal2=nn.BatchNorm1d(16)\n",
        "        self.LeakRelu=nn.LeakyReLU()\n",
        "\n",
        "        self.linear3=nn.Linear(16, 16)\n",
        "        self.batch_normal3=nn.BatchNorm1d(16)\n",
        "        self.LeakRelu=nn.LeakyReLU()\n",
        "\n",
        "        self.linear4=nn.Linear(16, 16)\n",
        "        self.batch_normal4=nn.BatchNorm1d(16)\n",
        "        self.LeakRelu=nn.LeakyReLU()\n",
        "\n",
        "        self.linear5=nn.Linear(16, 16)\n",
        "        self.batch_normal5=nn.BatchNorm1d(16)\n",
        "        self.LeakRelu=nn.LeakyReLU()\n",
        "\n",
        "        self.linear6=nn.Linear(16, 16)\n",
        "        self.batch_normal6=nn.BatchNorm1d(16)\n",
        "        self.LeakRelu=nn.LeakyReLU()\n",
        "\n",
        "        self.linear7=nn.Linear(16, 1)\n",
        "        self.batch_normal7=nn.BatchNorm1d(1)\n",
        "        self.LeakRelu=nn.LeakyReLU()\n",
        "\n",
        "        self.sigmoid=nn.Sigmoid()    \n",
        "        torch.nn.init.xavier_uniform_(self.linear1.weight)\n",
        "        torch.nn.init.xavier_uniform_(self.linear2.weight)\n",
        "        torch.nn.init.xavier_uniform_(self.linear3.weight)\n",
        "        torch.nn.init.xavier_uniform_(self.linear4.weight)\n",
        "        torch.nn.init.xavier_uniform_(self.linear5.weight)\n",
        "        torch.nn.init.xavier_uniform_(self.linear6.weight)\n",
        "        torch.nn.init.xavier_uniform_(self.linear7.weight)\n",
        "        # )        \n",
        "#  self.linear2,self.batch_normal2, self.LeakRelu, \n",
        "        self.model=nn.Sequential(self.linear1, self.batch_normal1, self.LeakRelu,\n",
        "                                 self.linear2,self.batch_normal2, self.LeakRelu, \n",
        "                                 self.linear3,self.batch_normal3,self.LeakRelu,\n",
        "                                 self.linear4, self.batch_normal4,self.LeakRelu,\n",
        "                                 self.linear5, self.batch_normal5,self.LeakRelu,\n",
        "                                 self.linear6, self.batch_normal6,self.LeakRelu,\n",
        "                                 self.linear7, self.batch_normal7,self.LeakRelu,\n",
        "                                 self.sigmoid)\n",
        "\n",
        "    def forward(self, x):\n",
        "        return self.model(x)\n",
        "\n",
        "model1=LogisticRegression().to(device)"
      ],
      "metadata": {
        "id": "t5CbjEM1Zdnv"
      },
      "execution_count": 8,
      "outputs": []
    },
    {
      "cell_type": "code",
      "source": [
        "criterion1=nn.CrossEntropyLoss().to(device)\n",
        "optimizer1 = optim.Adam(model1.parameters(), lr=0.001)\n",
        "print(model1.parameters)\n"
      ],
      "metadata": {
        "colab": {
          "base_uri": "https://localhost:8080/"
        },
        "id": "6w0204zabCkH",
        "outputId": "3ac0e8ec-25ca-408c-ab56-8fb600cb8603"
      },
      "execution_count": 9,
      "outputs": [
        {
          "output_type": "stream",
          "name": "stdout",
          "text": [
            "<bound method Module.parameters of LogisticRegression(\n",
            "  (linear1): Linear(in_features=28, out_features=16, bias=True)\n",
            "  (batch_normal1): BatchNorm1d(16, eps=1e-05, momentum=0.1, affine=True, track_running_stats=True)\n",
            "  (LeakRelu): LeakyReLU(negative_slope=0.01)\n",
            "  (linear2): Linear(in_features=16, out_features=16, bias=True)\n",
            "  (batch_normal2): BatchNorm1d(16, eps=1e-05, momentum=0.1, affine=True, track_running_stats=True)\n",
            "  (linear3): Linear(in_features=16, out_features=16, bias=True)\n",
            "  (batch_normal3): BatchNorm1d(16, eps=1e-05, momentum=0.1, affine=True, track_running_stats=True)\n",
            "  (linear4): Linear(in_features=16, out_features=16, bias=True)\n",
            "  (batch_normal4): BatchNorm1d(16, eps=1e-05, momentum=0.1, affine=True, track_running_stats=True)\n",
            "  (linear5): Linear(in_features=16, out_features=16, bias=True)\n",
            "  (batch_normal5): BatchNorm1d(16, eps=1e-05, momentum=0.1, affine=True, track_running_stats=True)\n",
            "  (linear6): Linear(in_features=16, out_features=16, bias=True)\n",
            "  (batch_normal6): BatchNorm1d(16, eps=1e-05, momentum=0.1, affine=True, track_running_stats=True)\n",
            "  (linear7): Linear(in_features=16, out_features=1, bias=True)\n",
            "  (batch_normal7): BatchNorm1d(1, eps=1e-05, momentum=0.1, affine=True, track_running_stats=True)\n",
            "  (sigmoid): Sigmoid()\n",
            "  (model): Sequential(\n",
            "    (0): Linear(in_features=28, out_features=16, bias=True)\n",
            "    (1): BatchNorm1d(16, eps=1e-05, momentum=0.1, affine=True, track_running_stats=True)\n",
            "    (2): LeakyReLU(negative_slope=0.01)\n",
            "    (3): Linear(in_features=16, out_features=16, bias=True)\n",
            "    (4): BatchNorm1d(16, eps=1e-05, momentum=0.1, affine=True, track_running_stats=True)\n",
            "    (5): LeakyReLU(negative_slope=0.01)\n",
            "    (6): Linear(in_features=16, out_features=16, bias=True)\n",
            "    (7): BatchNorm1d(16, eps=1e-05, momentum=0.1, affine=True, track_running_stats=True)\n",
            "    (8): LeakyReLU(negative_slope=0.01)\n",
            "    (9): Linear(in_features=16, out_features=16, bias=True)\n",
            "    (10): BatchNorm1d(16, eps=1e-05, momentum=0.1, affine=True, track_running_stats=True)\n",
            "    (11): LeakyReLU(negative_slope=0.01)\n",
            "    (12): Linear(in_features=16, out_features=16, bias=True)\n",
            "    (13): BatchNorm1d(16, eps=1e-05, momentum=0.1, affine=True, track_running_stats=True)\n",
            "    (14): LeakyReLU(negative_slope=0.01)\n",
            "    (15): Linear(in_features=16, out_features=16, bias=True)\n",
            "    (16): BatchNorm1d(16, eps=1e-05, momentum=0.1, affine=True, track_running_stats=True)\n",
            "    (17): LeakyReLU(negative_slope=0.01)\n",
            "    (18): Linear(in_features=16, out_features=1, bias=True)\n",
            "    (19): BatchNorm1d(1, eps=1e-05, momentum=0.1, affine=True, track_running_stats=True)\n",
            "    (20): LeakyReLU(negative_slope=0.01)\n",
            "    (21): Sigmoid()\n",
            "  )\n",
            ")>\n"
          ]
        }
      ]
    },
    {
      "cell_type": "code",
      "source": [
        "nb_epochs = 50\n",
        "accuracy_list_train=[]\n",
        "accuracy_list_valid=[]\n",
        "f1_list_train=[]\n",
        "f1_list_valid=[]\n",
        "accuracy_mean=0\n",
        "f1_mean=0\n",
        "\n",
        "# x_valid, y_valid=dataset_valid\n",
        "\n",
        "x_valid=x_valid.to(device)\n",
        "y_valid=y_valid.to(device)\n",
        "\n",
        "for epoch in range(nb_epochs + 1):\n",
        "    for batch_idx, samples in enumerate(dataloader_train):\n",
        "\n",
        "        x_train, y_train = samples\n",
        "\n",
        "        x_train=x_train.to(device)\n",
        "        y_train=y_train.to(device)\n",
        "\n",
        "\n",
        "        # H(x) 계산\n",
        "        hypothesis = model1(x_train)\n",
        "        \n",
        "        \n",
        "    \n",
        "        # cost 계산\n",
        "        # print(y_train.size())\n",
        "        hypothesis=hypothesis.squeeze()\n",
        "        # print(hypothesis.size())\n",
        "        # print(hypothesis)\n",
        "        # print(y_train)\n",
        "        cost = F.binary_cross_entropy(hypothesis, y_train)\n",
        "\n",
        "        # cost로 H(x) 개선\n",
        "        optimizer1.zero_grad()\n",
        "        cost.backward()\n",
        "        optimizer1.step()\n",
        "\n",
        "        bigo=torch.FloatTensor([0.5]).to(device)\n",
        "\n",
        "        prediction = hypothesis >= bigo # 예측값이 0.5를 넘으면 True로 간주\n",
        "        correct_prediction = prediction.float() == y_train # 실제값과 일치하는 경우만 True로 간주\n",
        "        accuracy = correct_prediction.sum().item() / len(correct_prediction) # 정확도를 계산\n",
        "        accuracy_mean= accuracy+accuracy_mean\n",
        "        f1 = f1_score(y_train.cpu(), prediction.float().cpu())\n",
        "        f1_mean=f1 + f1_mean\n",
        "\n",
        "        # 20번마다 로그 출력\n",
        "        if epoch % 10 == 0:\n",
        "          if batch_idx %1000 == 0:\n",
        "              prediction = hypothesis >= bigo # 예측값이 0.5를 넘으면 True로 간주\n",
        "              correct_prediction = prediction.float() == y_train # 실제값과 일치하는 경우만 True로 간주\n",
        "              accuracy = correct_prediction.sum().item() / len(correct_prediction) # 정확도를 계산\n",
        "              f1 = f1_score(y_train.cpu(), prediction.float().cpu())\n",
        "              print('Epoch {:4d}/{} Batch {}/{} Cost: {:.6f} Accuracy {:2.2f}%  f1 score : {:2.6f}'.format( # 각 에포크마다 정확도를 출력\n",
        "                  epoch, nb_epochs, batch_idx+1, len(dataloader_train), cost.item(), accuracy * 100, f1\n",
        "              ))\n",
        "\n",
        "    accuracy_mean=accuracy_mean/len(dataloader_train)\n",
        "    accuracy_list_train.append(accuracy_mean)\n",
        "    f1_mean=f1_mean/len(dataloader_train)\n",
        "    f1_list_train.append(f1_mean)\n",
        "\n",
        "    valid_hypothesis = model1(x_valid)\n",
        "    valid_hypothesis=valid_hypothesis.squeeze()\n",
        "    valid_prediction = valid_hypothesis >= bigo # 예측값이 0.5를 넘으면 True로 간주\n",
        "    valid_correct_prediction = valid_prediction.float() == y_valid # 실제값과 일치하는 경우만 True로 간주\n",
        "    valid_accuracy = valid_correct_prediction.sum().item() / len(valid_correct_prediction) # 정확도를 계산\n",
        "    # print(valid_hypothesis)\n",
        "    # print(valid_prediction)\n",
        "    \n",
        "    # print(valid_accuracy)\n",
        "    # print(len(valid_correct_prediction))\n",
        "    # print(valid_correct_prediction.sum().item())\n",
        "    valid_f1 = f1_score(y_valid.cpu(), valid_prediction.float().cpu())\n",
        "\n",
        "    accuracy_list_valid.append(valid_accuracy)\n",
        "    f1_list_valid.append(valid_f1)\n",
        "    torch.save(model1.state_dict(), f'{epoch:04d}.pt')\n"
      ],
      "metadata": {
        "colab": {
          "base_uri": "https://localhost:8080/"
        },
        "id": "VeroXH5FbGio",
        "outputId": "4500f6dd-8038-4d73-d7f5-c8cd6d6c594b"
      },
      "execution_count": 10,
      "outputs": [
        {
          "output_type": "stream",
          "name": "stdout",
          "text": [
            "Epoch    0/50 Batch 1/6275 Cost: 0.703325 Accuracy 56.25%  f1 score : 0.588235\n",
            "Epoch    0/50 Batch 1001/6275 Cost: 0.676426 Accuracy 64.06%  f1 score : 0.634921\n",
            "Epoch    0/50 Batch 2001/6275 Cost: 0.697574 Accuracy 50.00%  f1 score : 0.448276\n",
            "Epoch    0/50 Batch 3001/6275 Cost: 0.700199 Accuracy 50.00%  f1 score : 0.483871\n",
            "Epoch    0/50 Batch 4001/6275 Cost: 0.685571 Accuracy 53.12%  f1 score : 0.531250\n",
            "Epoch    0/50 Batch 5001/6275 Cost: 0.705260 Accuracy 54.69%  f1 score : 0.431373\n",
            "Epoch    0/50 Batch 6001/6275 Cost: 0.681382 Accuracy 51.56%  f1 score : 0.456140\n",
            "Epoch   10/50 Batch 1/6275 Cost: 0.690080 Accuracy 67.19%  f1 score : 0.603774\n",
            "Epoch   10/50 Batch 1001/6275 Cost: 0.679805 Accuracy 56.25%  f1 score : 0.588235\n",
            "Epoch   10/50 Batch 2001/6275 Cost: 0.679963 Accuracy 59.38%  f1 score : 0.566667\n",
            "Epoch   10/50 Batch 3001/6275 Cost: 0.700195 Accuracy 53.12%  f1 score : 0.500000\n",
            "Epoch   10/50 Batch 4001/6275 Cost: 0.691509 Accuracy 64.06%  f1 score : 0.646154\n",
            "Epoch   10/50 Batch 5001/6275 Cost: 0.659731 Accuracy 59.38%  f1 score : 0.638889\n",
            "Epoch   10/50 Batch 6001/6275 Cost: 0.670215 Accuracy 70.31%  f1 score : 0.739726\n",
            "Epoch   20/50 Batch 1/6275 Cost: 0.731961 Accuracy 45.31%  f1 score : 0.385965\n",
            "Epoch   20/50 Batch 1001/6275 Cost: 0.679624 Accuracy 60.94%  f1 score : 0.590164\n",
            "Epoch   20/50 Batch 2001/6275 Cost: 0.658058 Accuracy 67.19%  f1 score : 0.676923\n",
            "Epoch   20/50 Batch 3001/6275 Cost: 0.698722 Accuracy 56.25%  f1 score : 0.461538\n",
            "Epoch   20/50 Batch 4001/6275 Cost: 0.680988 Accuracy 56.25%  f1 score : 0.500000\n",
            "Epoch   20/50 Batch 5001/6275 Cost: 0.684787 Accuracy 53.12%  f1 score : 0.558824\n",
            "Epoch   20/50 Batch 6001/6275 Cost: 0.704752 Accuracy 59.38%  f1 score : 0.566667\n",
            "Epoch   30/50 Batch 1/6275 Cost: 0.680311 Accuracy 50.00%  f1 score : 0.529412\n",
            "Epoch   30/50 Batch 1001/6275 Cost: 0.655418 Accuracy 60.94%  f1 score : 0.647887\n",
            "Epoch   30/50 Batch 2001/6275 Cost: 0.705955 Accuracy 56.25%  f1 score : 0.517241\n",
            "Epoch   30/50 Batch 3001/6275 Cost: 0.661035 Accuracy 57.81%  f1 score : 0.608696\n",
            "Epoch   30/50 Batch 4001/6275 Cost: 0.661125 Accuracy 70.31%  f1 score : 0.716418\n",
            "Epoch   30/50 Batch 5001/6275 Cost: 0.650493 Accuracy 71.88%  f1 score : 0.709677\n",
            "Epoch   30/50 Batch 6001/6275 Cost: 0.665437 Accuracy 54.69%  f1 score : 0.579710\n",
            "Epoch   40/50 Batch 1/6275 Cost: 0.677871 Accuracy 59.38%  f1 score : 0.580645\n",
            "Epoch   40/50 Batch 1001/6275 Cost: 0.682804 Accuracy 57.81%  f1 score : 0.584615\n",
            "Epoch   40/50 Batch 2001/6275 Cost: 0.666028 Accuracy 67.19%  f1 score : 0.644068\n",
            "Epoch   40/50 Batch 3001/6275 Cost: 0.665952 Accuracy 60.94%  f1 score : 0.603175\n",
            "Epoch   40/50 Batch 4001/6275 Cost: 0.671906 Accuracy 64.06%  f1 score : 0.634921\n",
            "Epoch   40/50 Batch 5001/6275 Cost: 0.682512 Accuracy 53.12%  f1 score : 0.545455\n",
            "Epoch   40/50 Batch 6001/6275 Cost: 0.709538 Accuracy 54.69%  f1 score : 0.539683\n",
            "Epoch   50/50 Batch 1/6275 Cost: 0.673421 Accuracy 60.94%  f1 score : 0.626866\n",
            "Epoch   50/50 Batch 1001/6275 Cost: 0.684540 Accuracy 54.69%  f1 score : 0.567164\n",
            "Epoch   50/50 Batch 2001/6275 Cost: 0.684888 Accuracy 64.06%  f1 score : 0.566038\n",
            "Epoch   50/50 Batch 3001/6275 Cost: 0.678347 Accuracy 56.25%  f1 score : 0.533333\n",
            "Epoch   50/50 Batch 4001/6275 Cost: 0.703691 Accuracy 48.44%  f1 score : 0.440678\n",
            "Epoch   50/50 Batch 5001/6275 Cost: 0.674483 Accuracy 60.94%  f1 score : 0.647887\n",
            "Epoch   50/50 Batch 6001/6275 Cost: 0.682826 Accuracy 60.94%  f1 score : 0.528302\n"
          ]
        }
      ]
    },
    {
      "cell_type": "code",
      "source": [
        "import matplotlib.pyplot as plt\n",
        "\n",
        "\n",
        "t=range(0,nb_epochs+1)\n",
        "print(len(accuracy_list_train))\n",
        "print(len(accuracy_list_valid))\n",
        "\n",
        "plt.plot(t,accuracy_list_train,'r--',t,accuracy_list_valid,'g-')\n",
        "\n",
        "\n",
        "plt.show()\n",
        "\n",
        "print(accuracy_list_train)\n",
        "print(accuracy_list_valid)"
      ],
      "metadata": {
        "colab": {
          "base_uri": "https://localhost:8080/",
          "height": 358
        },
        "id": "FjbUDTNlbIkm",
        "outputId": "fe2a046d-1824-4580-c184-48372b7482e2"
      },
      "execution_count": 11,
      "outputs": [
        {
          "output_type": "stream",
          "name": "stdout",
          "text": [
            "51\n",
            "51\n"
          ]
        },
        {
          "output_type": "display_data",
          "data": {
            "image/png": "[encoded data removed]",
            "text/plain": [
              "<Figure size 432x288 with 1 Axes>"
            ]
          },
          "metadata": {
            "needs_background": "light"
          }
        },
        {
          "output_type": "stream",
          "name": "stdout",
          "text": [
            "[0.5529050464807437, 0.5625399715877525, 0.5660043224390313, 0.5718730684179185, 0.5780003316974903, 0.5799261089506026, 0.5809929829124489, 0.5824564663452185, 0.5823894684939728, 0.5829223263429207, 0.5837582346336802, 0.5844439588156123, 0.5853172420651499, 0.5838814582590277, 0.5851926504315951, 0.5840466110465495, 0.5856184735635134, 0.5859457492919358, 0.5866463326559297, 0.587103781620078, 0.5871436951577615, 0.5870598701771831, 0.5872407997137069, 0.5882683849880023, 0.5871355806191215, 0.5884227506901385, 0.588352404688025, 0.5884287546992863, 0.5878817881149587, 0.5890013888639758, 0.5881574437804299, 0.5890147130056489, 0.5887915760498814, 0.589497881791668, 0.5890854777500862, 0.5890804319486455, 0.5886322239732189, 0.5895443371406066, 0.5899528490311512, 0.5901604174527008, 0.5906949790837906, 0.5901995463446084, 0.5902642084270403, 0.5907182359960308, 0.5912752472620445, 0.5904320425360843, 0.5908718151993417, 0.5904203580581991, 0.5912112887688804, 0.5917218729809459, 0.5922523328350036]\n",
            "[0.5592533195206741, 0.5668934466237013, 0.5697721907342291, 0.5807791535097768, 0.5815361934834796, 0.5828112081760317, 0.5829506629080295, 0.5876921237959578, 0.5866960185674015, 0.5847735354762877, 0.5862577322668366, 0.5879511111553825, 0.5881005269396659, 0.588439202717375, 0.5870645775019673, 0.5883893974559472, 0.5893855026845036, 0.5898835552987818, 0.5877319680051001, 0.5900528931876363, 0.5880806048350948, 0.5895548405733582, 0.5899632437170663, 0.590082776344493, 0.5907601278999114, 0.5913677520893307, 0.5909493878933371, 0.5920351425924635, 0.5912781026187607, 0.5914374794553297, 0.5894950742596448, 0.5925630783635983, 0.5887479953382275, 0.5926128836250262, 0.5929216762458787, 0.5926029225727406, 0.5927822215138807, 0.5931906246575889, 0.5932802741281589, 0.5927822215138807, 0.5940472751541472, 0.5931109362393043, 0.5929117151935931, 0.5935691446444402, 0.5946947435527089, 0.5931906246575889, 0.5919056489127511, 0.5947047046049945, 0.593439650964728, 0.5952127182715582, 0.5943759898795709]\n"
          ]
        }
      ]
    },
    {
      "cell_type": "code",
      "source": [
        "plt.plot(t,f1_list_train,'r--',t,f1_list_valid,'g-')\n",
        "\n",
        "plt.show()\n",
        "\n",
        "print(f1_list_train)\n",
        "print(f1_list_valid)"
      ],
      "metadata": {
        "colab": {
          "base_uri": "https://localhost:8080/",
          "height": 322
        },
        "id": "IL826eMPbfMs",
        "outputId": "8f4afa5e-1713-4ac1-bbb8-3f926e59c80e"
      },
      "execution_count": 12,
      "outputs": [
        {
          "output_type": "display_data",
          "data": {
            "image/png": "[encoded data removed]",
            "text/plain": [
              "<Figure size 432x288 with 1 Axes>"
            ]
          },
          "metadata": {
            "needs_background": "light"
          }
        },
        {
          "output_type": "stream",
          "name": "stdout",
          "text": [
            "[0.5267768802619521, 0.5409115667199117, 0.5478715556198703, 0.5593142559406005, 0.5726855897646868, 0.5690484696772453, 0.5690930713106183, 0.5765719938246935, 0.5735835340452777, 0.5711577236711664, 0.575878057504658, 0.5750566470368945, 0.578929821297193, 0.5703082912134149, 0.5764903710333205, 0.5683574300396003, 0.5753429649334312, 0.5767476592793713, 0.5812517222744228, 0.5809203726371045, 0.5812030284103247, 0.579789379744488, 0.5818846452861428, 0.5839538564767097, 0.5771480085671117, 0.5823280262029636, 0.5846102006604343, 0.5816860878122272, 0.5809012325794436, 0.5845303087401114, 0.5784048093104516, 0.5811043215290881, 0.5782320374009853, 0.5831978441856178, 0.5799745160493357, 0.579145179266328, 0.578501575322032, 0.5797926302166164, 0.5803277275931138, 0.5799496510614522, 0.582767270461168, 0.584485089284749, 0.5825696554676113, 0.5834610999928977, 0.5850512875592813, 0.5831331648723651, 0.5837263319801334, 0.5816396075877387, 0.583013258015102, 0.587434232217042, 0.5898727056566329]\n",
            "[0.5592972181551977, 0.5565618243381063, 0.5557989571441795, 0.5884170790384728, 0.5696049504139006, 0.5751643268684572, 0.5829215811284666, 0.5849510669019734, 0.5617381752117793, 0.5779888030614414, 0.5941530524505588, 0.5956560838285893, 0.5840567318815069, 0.5858650656028547, 0.5978093196084329, 0.5689518484519736, 0.5976849954129335, 0.5942925839065056, 0.5716503487818511, 0.5897995594494115, 0.5631094629858536, 0.5873764532700454, 0.5956702813138457, 0.5891865990496347, 0.5906255604934335, 0.5912537488915238, 0.5879531612165241, 0.6010986442262739, 0.5879493874271943, 0.591270553064275, 0.5586411489402717, 0.5854019481638403, 0.594758539458186, 0.5920643153526971, 0.5889996278901372, 0.5996221280261572, 0.5833868354275581, 0.5978810972607865, 0.5898731380013459, 0.5962649495837324, 0.5948826020398019, 0.5937947494033413, 0.6012878048780488, 0.5970650392052299, 0.5923885276940185, 0.5831121636519538, 0.5988111908655588, 0.5870663933261615, 0.5996056387768915, 0.610342413869152, 0.5914458568690995]\n"
          ]
        }
      ]
    },
    {
      "cell_type": "code",
      "source": [
        "result=pd.read_csv('/content/sample_submission.csv')\n",
        "\n",
        "model2=LogisticRegression()\n",
        "model2.load_state_dict(torch.load('/content/0010.pt'))\n",
        "\n",
        "x_test=x_test.to(device)\n",
        "hypothesis=model2(x_test)\n",
        "print(hypothesis)\n",
        "prediction = hypothesis >= torch.FloatTensor([0.5]).to(device) # 예측값이 0.5를 넘으면 True로 간주\n",
        "\n",
        "print(prediction)\n",
        "\n",
        "prediction = torch.squeeze(prediction)\n",
        "prediction=prediction.cpu()\n",
        "prediction=np.array(prediction)\n",
        "prediction=pd.Series(prediction)\n",
        "\n",
        "prediction=prediction.replace([True,False],[1,0])\n",
        "\n",
        "result['target']=prediction\n",
        "result.to_csv('result.csv',index=False)"
      ],
      "metadata": {
        "colab": {
          "base_uri": "https://localhost:8080/"
        },
        "id": "2fzuX27Bbiba",
        "outputId": "c49ad190-1d69-41fc-94fd-e068f2a144bd"
      },
      "execution_count": 14,
      "outputs": [
        {
          "output_type": "stream",
          "name": "stdout",
          "text": [
            "tensor([[0.4999],\n",
            "        [0.4962],\n",
            "        [0.4999],\n",
            "        ...,\n",
            "        [0.6963],\n",
            "        [0.6517],\n",
            "        [0.6320]], grad_fn=<SigmoidBackward0>)\n",
            "tensor([[False],\n",
            "        [False],\n",
            "        [False],\n",
            "        ...,\n",
            "        [ True],\n",
            "        [ True],\n",
            "        [ True]])\n"
          ]
        }
      ]
    },
    {
      "cell_type": "code",
      "source": [
        ""
      ],
      "metadata": {
        "id": "m1_MOU_2-IqU"
      },
      "execution_count": null,
      "outputs": []
    }
  ]
}